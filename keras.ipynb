{
 "cells": [
  {
   "cell_type": "markdown",
   "metadata": {
    "_cell_guid": "f7a31ceb-83b3-cabd-129a-6ebd25397d59",
    "_uuid": "4f5467b6ea95f2d92378196cb4ccb107ab64cf6d"
   },
   "source": [
    "## Background\n",
    "This kernel is intended to use Keras on the classic Titanic survivors dataset.  It is assuming that you are familiar with the titanic survivors data and skips most of the very necessary EDA. <br />\n",
    "Specifically I want to see if some of the SibSp and Parch feature engineering can be avoided by using a deep learning architecture and still get a decent enough score."
   ]
  },
  {
   "cell_type": "markdown",
   "metadata": {
    "_cell_guid": "4b0883e8-5faf-ee0d-21ec-017aaaa37995",
    "_uuid": "614ec93265f0e7504a3b0ff60f4527cca794ff34"
   },
   "source": [
    "## Load environment"
   ]
  },
  {
   "cell_type": "code",
   "execution_count": 1,
   "metadata": {
    "_cell_guid": "3c9f4cd5-e26b-76ee-e9c4-500d9a02fb4a",
    "_uuid": "23040d3dfd137ca44be354197546f245dd498264"
   },
   "outputs": [
    {
     "name": "stderr",
     "output_type": "stream",
     "text": [
      "Using Theano backend.\n",
      "WARNING (theano.sandbox.cuda): The cuda backend is deprecated and will be removed in the next release (v0.10).  Please switch to the gpuarray backend. You can get more information about how to switch at this URL:\n",
      " https://github.com/Theano/Theano/wiki/Converting-to-the-new-gpu-back-end%28gpuarray%29\n",
      "\n",
      "Using gpu device 0: GeForce 940M (CNMeM is disabled, cuDNN 5110)\n"
     ]
    }
   ],
   "source": [
    "from __future__ import print_function\n",
    "import numpy as np\n",
    "import pandas as pd\n",
    "from keras.models import Sequential\n",
    "from keras.optimizers import SGD, RMSprop, Adam\n",
    "from keras.layers import Dense, Activation, Dropout\n",
    "import theano.sandbox.cuda\n",
    "theano.sandbox.cuda.use(\"gpu\")"
   ]
  },
  {
   "cell_type": "code",
   "execution_count": null,
   "metadata": {
    "_cell_guid": "672c9f76-99c3-c7b5-2f37-15b1d6ea874a",
    "_uuid": "ef67bdf6c683bff25a05ea31f68a246eec35ac12",
    "collapsed": true
   },
   "outputs": [],
   "source": [
    "raw_train = pd.read_csv('train.csv', index_col=0)\n",
    "raw_train['is_test'] = 0\n",
    "raw_test = pd.read_csv('test.csv', index_col=0)\n",
    "raw_test['is_test'] = 1"
   ]
  },
  {
   "cell_type": "code",
   "execution_count": null,
   "metadata": {
    "_cell_guid": "29892057-8c8a-2f7f-4d81-cca5fc4c2cc3",
    "_uuid": "c9c447d6f93f07157df18eca04d92b31910f1142",
    "collapsed": true
   },
   "outputs": [],
   "source": [
    "all_data = pd.concat((raw_train, raw_test), axis=0)"
   ]
  },
  {
   "cell_type": "markdown",
   "metadata": {
    "_cell_guid": "c18f9750-9d6e-7594-8c52-ea61547c5ccd",
    "_uuid": "dac972aecff2d5e7154a89f0fa5488f89cc7bfac"
   },
   "source": [
    "## Functions to preprocess the data"
   ]
  },
  {
   "cell_type": "code",
   "execution_count": null,
   "metadata": {
    "_cell_guid": "86457f98-c736-91ad-3add-079a6a61ccae",
    "_uuid": "6a8bcbe7afdf98f0e084887091d2897e3011a140",
    "collapsed": true
   },
   "outputs": [],
   "source": [
    "def get_title_last_name(name):\n",
    "    full_name = name.str.split(', ', n=0, expand=True)\n",
    "    last_name = full_name[0]\n",
    "    titles = full_name[1].str.split('.', n=0, expand=True)\n",
    "    titles = titles[0]\n",
    "    return(titles)\n",
    "\n",
    "def get_titles_from_names(df):\n",
    "    df['Title'] = get_title_last_name(df['Name'])\n",
    "    df = df.drop(['Name'], axis=1)\n",
    "    return(df)\n",
    "\n",
    "def get_dummy_cats(df):\n",
    "    return(pd.get_dummies(df, columns=['Title', 'Pclass', 'Sex', 'Embarked',\n",
    "                                       'Cabin', 'Cabin_letter']))\n",
    "\n",
    "def get_cabin_letter(df):    \n",
    "    df['Cabin'].fillna('Z', inplace=True)\n",
    "    df['Cabin_letter'] = df['Cabin'].str[0]    \n",
    "    return(df)\n",
    "\n",
    "def process_data(df):\n",
    "    # preprocess titles, cabin, embarked\n",
    "    df = get_titles_from_names(df)    \n",
    "    df['Embarked'].fillna('S', inplace=True)\n",
    "    df = get_cabin_letter(df)\n",
    "    \n",
    "    # drop remaining features\n",
    "    df = df.drop(['Ticket', 'Fare'], axis=1)\n",
    "    \n",
    "    # create dummies for categorial features\n",
    "    df = get_dummy_cats(df)\n",
    "    \n",
    "    return(df)\n",
    "\n",
    "proc_data = process_data(all_data)\n",
    "proc_train = proc_data[proc_data['is_test'] == 0]\n",
    "proc_test = proc_data[proc_data['is_test'] == 1]"
   ]
  },
  {
   "cell_type": "code",
   "execution_count": null,
   "metadata": {
    "_cell_guid": "4aa439d3-32d6-5288-d1ef-96f644fe38e5",
    "_uuid": "e253c4819fa11ec4007d74ccf601c49ec4228ad7"
   },
   "outputs": [],
   "source": [
    "proc_data.head()"
   ]
  },
  {
   "cell_type": "markdown",
   "metadata": {
    "_cell_guid": "d786ec5b-d97a-01fe-f3ff-61f3a606bb2f",
    "_uuid": "f7352b9c1ef560efeac24c0b4bcc498205332331"
   },
   "source": [
    "## Build Network to predict missing ages"
   ]
  },
  {
   "cell_type": "code",
   "execution_count": null,
   "metadata": {
    "_cell_guid": "0eb190e1-9ec8-5645-04e7-b65f94b7c6ff",
    "_uuid": "2be256bbf37caa3f85084949354694db8c03a7ba",
    "collapsed": true
   },
   "outputs": [],
   "source": [
    "for_age_train = proc_data.drop(['Survived', 'is_test'], axis=1).dropna(axis=0)\n",
    "X_train_age = for_age_train.drop('Age', axis=1)\n",
    "y_train_age = for_age_train['Age']"
   ]
  },
  {
   "cell_type": "code",
   "execution_count": null,
   "metadata": {
    "_cell_guid": "14fd61c4-0947-4912-5c57-0cb3bbaf9c39",
    "_uuid": "fef69852f19fcf7dde9af217150b146fc4da8e06",
    "collapsed": true
   },
   "outputs": [],
   "source": [
    "# create model\n",
    "tmodel = Sequential()\n",
    "tmodel.add(Dense(input_dim=X_train_age.shape[1], units=128,\n",
    "                 kernel_initializer='normal', bias_initializer='zeros'))\n",
    "tmodel.add(Activation('relu'))\n",
    "\n",
    "for i in range(0, 8):\n",
    "    tmodel.add(Dense(units=64, kernel_initializer='normal',\n",
    "                     bias_initializer='zeros'))\n",
    "    tmodel.add(Activation('relu'))\n",
    "    tmodel.add(Dropout(.25))\n",
    "\n",
    "tmodel.add(Dense(units=1))\n",
    "tmodel.add(Activation('linear'))\n",
    "\n",
    "tmodel.compile(loss='mean_squared_error', optimizer='rmsprop')"
   ]
  },
  {
   "cell_type": "code",
   "execution_count": null,
   "metadata": {
    "_cell_guid": "51ce31d7-d73c-8858-0f9c-5d128e8dfd91",
    "_uuid": "87204d57211986ae4626179358918c9f766de12f"
   },
   "outputs": [],
   "source": [
    "tmodel.fit(X_train_age.values, y_train_age.values, epochs=600, verbose=2)"
   ]
  },
  {
   "cell_type": "code",
   "execution_count": null,
   "metadata": {
    "_cell_guid": "74cba856-7b7e-b984-5c08-cc57519dc733",
    "_uuid": "26e8a35cb53de011570100dcdb8c8ae9e773ea81",
    "collapsed": true
   },
   "outputs": [],
   "source": [
    "train_data = proc_train\n",
    "train_data.loc[train_data['Age'].isnull()]"
   ]
  },
  {
   "cell_type": "code",
   "execution_count": null,
   "metadata": {
    "_cell_guid": "901b429c-fb1b-3815-c966-c7c871b93767",
    "_uuid": "c7ecbd8bdb80a4d6dd7513735f4d90369a252dbd",
    "collapsed": true
   },
   "outputs": [],
   "source": [
    "to_pred = train_data.loc[train_data['Age'].isnull()].drop(\n",
    "          ['Age', 'Survived', 'is_test'], axis=1)\n",
    "p = tmodel.predict(to_pred.values)\n",
    "train_data['Age'].loc[train_data['Age'].isnull()] = p"
   ]
  },
  {
   "cell_type": "code",
   "execution_count": null,
   "metadata": {
    "_cell_guid": "e3061f40-6fbd-72b0-7dc2-637f4a16b95c",
    "_uuid": "0b56d486902f0f0ea11b6f9255afb2b9844ff7e1",
    "collapsed": true
   },
   "outputs": [],
   "source": [
    "test_data = proc_test\n",
    "to_pred = test_data.loc[test_data['Age'].isnull()].drop(\n",
    "          ['Age', 'Survived', 'is_test'], axis=1)\n",
    "p = tmodel.predict(to_pred.values)\n",
    "test_data['Age'].loc[test_data['Age'].isnull()] = p"
   ]
  },
  {
   "cell_type": "code",
   "execution_count": null,
   "metadata": {
    "_cell_guid": "1dc61b8b-741f-88c2-44d6-a0f92ad00b10",
    "_uuid": "7bbd05d5b400296c52cf36f2b49f2645fdeb4734",
    "collapsed": true
   },
   "outputs": [],
   "source": [
    "train_data.loc[train_data['Age'].isnull()]"
   ]
  },
  {
   "cell_type": "code",
   "execution_count": null,
   "metadata": {
    "_cell_guid": "7897904a-743d-eff5-0e41-d2f2dd882e44",
    "_uuid": "b6a330648f0d972cdcef0877382a07ea336b7ef1",
    "collapsed": true
   },
   "outputs": [],
   "source": [
    "y = pd.get_dummies(train_data['Survived'])\n",
    "y.head()"
   ]
  },
  {
   "cell_type": "code",
   "execution_count": null,
   "metadata": {
    "_cell_guid": "b6011b47-1a3b-2c48-22a1-9d8d6f4c8ce4",
    "_uuid": "0c191cb32d4cd1c0c12fd9d25090f2a0d6f28a28",
    "collapsed": true
   },
   "outputs": [],
   "source": [
    "X = train_data.drop(['Survived', 'is_test'], axis=1)"
   ]
  },
  {
   "cell_type": "code",
   "execution_count": null,
   "metadata": {
    "_cell_guid": "c96d4f12-e49f-2bea-259b-6cdf3f60c972",
    "_uuid": "bad766fe2d963bf21ed5eab1d8fca185bea91492",
    "collapsed": true
   },
   "outputs": [],
   "source": [
    "# create model\n",
    "model = Sequential()\n",
    "model.add(Dense(input_dim=X.shape[1], units=128,\n",
    "                 kernel_initializer='normal', bias_initializer='zeros'))\n",
    "model.add(Activation('relu'))\n",
    "\n",
    "for i in range(0, 15):\n",
    "    model.add(Dense(units=128, kernel_initializer='normal',\n",
    "                     bias_initializer='zeros'))\n",
    "    model.add(Activation('relu'))\n",
    "    model.add(Dropout(.40))\n",
    "\n",
    "model.add(Dense(units=2))\n",
    "model.add(Activation('softmax'))\n",
    "\n",
    "model.compile(loss='categorical_crossentropy', optimizer='adam', metrics=['accuracy'])"
   ]
  },
  {
   "cell_type": "code",
   "execution_count": null,
   "metadata": {
    "_cell_guid": "0b15d718-1c58-1df1-58b1-c89b808a8a0f",
    "_uuid": "60b3b94b714219687f9b3e0a85b0991705b19929",
    "collapsed": true
   },
   "outputs": [],
   "source": [
    "model.fit(X.values, y.values, epochs=500, verbose=2)"
   ]
  },
  {
   "cell_type": "code",
   "execution_count": null,
   "metadata": {
    "_cell_guid": "2ba83ed4-995d-f8de-e1d4-ff97c590944e",
    "_uuid": "9a1d321774c19b760962588a69de5cc3ecff3cfe",
    "collapsed": true
   },
   "outputs": [],
   "source": [
    "test_data.columns"
   ]
  },
  {
   "cell_type": "code",
   "execution_count": null,
   "metadata": {
    "_cell_guid": "fa895029-3378-093c-4c90-cde4946377aa",
    "_uuid": "abd4cdc8fa418f92dc5817d2736c3e95a40503a5",
    "collapsed": true
   },
   "outputs": [],
   "source": [
    "p_survived = model.predict_classes(test_data.drop(['Survived', 'is_test'], axis=1).values)"
   ]
  },
  {
   "cell_type": "code",
   "execution_count": null,
   "metadata": {
    "_cell_guid": "6f31c131-e052-530e-937a-ccc512b2101f",
    "_uuid": "00b86e323c06053f17b5ea8d2d52e1f1f18986ee",
    "collapsed": true
   },
   "outputs": [],
   "source": [
    "submission = pd.DataFrame()\n",
    "submission['PassengerId'] = test_data.index\n",
    "submission['Survived'] = p_survived"
   ]
  },
  {
   "cell_type": "code",
   "execution_count": null,
   "metadata": {
    "_cell_guid": "ee29b156-f274-bbdf-0666-fa01682a02dd",
    "_uuid": "7ca667def70744bbf60a63c42362a0b1cd59c964",
    "collapsed": true
   },
   "outputs": [],
   "source": [
    "submission.shape"
   ]
  },
  {
   "cell_type": "code",
   "execution_count": null,
   "metadata": {
    "_cell_guid": "a7eb3225-0c37-d9f9-dcff-59598ec5b611",
    "_uuid": "67e5c8b794c223e6f40df555ed822e5fd40bcf61",
    "collapsed": true
   },
   "outputs": [],
   "source": [
    "submission.to_csv('titanic_keras_cs.csv', index=False)"
   ]
  }
 ],
 "metadata": {
  "_change_revision": 0,
  "_is_fork": false,
  "kernelspec": {
   "display_name": "Python 2",
   "language": "python",
   "name": "python2"
  },
  "language_info": {
   "codemirror_mode": {
    "name": "ipython",
    "version": 2
   },
   "file_extension": ".py",
   "mimetype": "text/x-python",
   "name": "python",
   "nbconvert_exporter": "python",
   "pygments_lexer": "ipython2",
   "version": "2.7.14"
  }
 },
 "nbformat": 4,
 "nbformat_minor": 1
}
